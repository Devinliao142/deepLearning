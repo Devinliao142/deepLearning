{
 "cells": [
  {
   "cell_type": "code",
   "execution_count": 9,
   "metadata": {},
   "outputs": [],
   "source": [
    "import numpy as np\n",
    "import pandas as pd\n",
    "import keras\n",
    "from keras import backend as K\n",
    "from keras.models import Sequential, Model\n",
    "from keras.layers import Input\n",
    "from keras.layers.convolutional import Conv2D\n",
    "from keras.layers.convolutional import MaxPooling2D\n",
    "from keras.layers.core import Dense, Dropout, Activation, Flatten\n",
    "from keras.optimizers import SGD, RMSprop, Adam\n",
    "from keras.utils import np_utils\n",
    "from six.moves import cPickle as pickle\n",
    "\n",
    "from __future__ import print_function\n",
    "\n",
    "import warnings\n",
    "warnings.filterwarnings('ignore')\n",
    "\n",
    "import matplotlib\n",
    "import matplotlib.pyplot as plt\n",
    "%matplotlib inline\n",
    "import seaborn as sns\n",
    "sns.set(color_codes=True)"
   ]
  },
  {
   "cell_type": "code",
   "execution_count": 2,
   "metadata": {},
   "outputs": [],
   "source": [
    "np.random.seed(1671)  # for reproducibility"
   ]
  },
  {
   "cell_type": "code",
   "execution_count": 3,
   "metadata": {},
   "outputs": [
    {
     "name": "stdout",
     "output_type": "stream",
     "text": [
      "Training set (200000, 28, 28) (200000,)\n",
      "Validation set (10000, 28, 28) (10000,)\n",
      "Test set (10000, 28, 28) (10000,)\n"
     ]
    }
   ],
   "source": [
    "pickle_file = '/home/peizhou.liao/deep_learning/Google/notMNIST.pickle'\n",
    "\n",
    "with open(pickle_file, 'rb') as f:\n",
    "    save = pickle.load(f)\n",
    "    train_dataset = save['train_dataset']\n",
    "    train_labels = save['train_labels']\n",
    "    valid_dataset = save['valid_dataset']\n",
    "    valid_labels = save['valid_labels']\n",
    "    test_dataset = save['test_dataset']\n",
    "    test_labels = save['test_labels']\n",
    "    del save  # hint to help gc free up memory\n",
    "    print('Training set', train_dataset.shape, train_labels.shape)\n",
    "    print('Validation set', valid_dataset.shape, valid_labels.shape)\n",
    "    print('Test set', test_dataset.shape, test_labels.shape)"
   ]
  },
  {
   "cell_type": "code",
   "execution_count": 4,
   "metadata": {},
   "outputs": [
    {
     "name": "stdout",
     "output_type": "stream",
     "text": [
      "Training set (200000, 1, 28, 28) (200000, 10)\n",
      "Validation set (10000, 1, 28, 28) (10000, 10)\n",
      "Test set (10000, 1, 28, 28) (10000, 10)\n"
     ]
    }
   ],
   "source": [
    "image_size = 28\n",
    "num_labels = 10\n",
    "\n",
    "def reformat(dataset, labels):\n",
    "    dataset = dataset[:, np.newaxis, :, :]\n",
    "    # Map 0 to [1.0, 0.0, 0.0 ...], 1 to [0.0, 1.0, 0.0 ...]\n",
    "    labels = (np.arange(num_labels) == labels[:,None]).astype(np.float32)\n",
    "    return dataset, labels\n",
    "train_dataset, train_labels = reformat(train_dataset, train_labels)\n",
    "valid_dataset, valid_labels = reformat(valid_dataset, valid_labels)\n",
    "test_dataset, test_labels = reformat(test_dataset, test_labels)\n",
    "print('Training set', train_dataset.shape, train_labels.shape)\n",
    "print('Validation set', valid_dataset.shape, valid_labels.shape)\n",
    "print('Test set', test_dataset.shape, test_labels.shape)"
   ]
  },
  {
   "cell_type": "code",
   "execution_count": 15,
   "metadata": {},
   "outputs": [],
   "source": [
    "#define the convnet \n",
    "class LeNet:\n",
    "    @staticmethod\n",
    "    def build(input_shape, classes):\n",
    "        model = Sequential()\n",
    "        # CONV => RELU => POOL\n",
    "        model.add(Conv2D(20, kernel_size=5, padding=\"same\",input_shape=input_shape))\n",
    "        model.add(Activation(\"relu\"))\n",
    "        model.add(MaxPooling2D(pool_size=(2, 2), strides=(2, 2)))\n",
    "        # CONV => RELU => POOL\n",
    "        model.add(Conv2D(50, kernel_size=5, padding=\"same\"))\n",
    "        model.add(Activation(\"relu\"))\n",
    "        model.add(MaxPooling2D(pool_size=(2, 2), strides=(2, 2)))\n",
    "        # Flatten => RELU layers\n",
    "        model.add(Flatten())\n",
    "        model.add(Dense(500))\n",
    "        model.add(Activation(\"relu\"))\n",
    "    \n",
    "        # a softmax classifier\n",
    "        model.add(Dense(classes))\n",
    "        model.add(Activation(\"softmax\"))\n",
    "\n",
    "        return model"
   ]
  },
  {
   "cell_type": "code",
   "execution_count": 5,
   "metadata": {},
   "outputs": [],
   "source": [
    "NB_CLASSES = 10\n",
    "OPTIMIZER = Adam()\n",
    "BATCH_SIZE = 128\n",
    "NB_EPOCH = 10\n",
    "VERBOSE = 1\n",
    "INPUT_SHAPE = (1, image_size, image_size)"
   ]
  },
  {
   "cell_type": "code",
   "execution_count": 10,
   "metadata": {},
   "outputs": [
    {
     "name": "stdout",
     "output_type": "stream",
     "text": [
      "_________________________________________________________________\n",
      "Layer (type)                 Output Shape              Param #   \n",
      "=================================================================\n",
      "image_input (InputLayer)     (None, 1, 28, 28)         0         \n",
      "_________________________________________________________________\n",
      "conv2d_5 (Conv2D)            (None, 20, 28, 28)        520       \n",
      "_________________________________________________________________\n",
      "max_pooling2d_5 (MaxPooling2 (None, 20, 14, 14)        0         \n",
      "_________________________________________________________________\n",
      "conv2d_6 (Conv2D)            (None, 50, 14, 14)        25050     \n",
      "_________________________________________________________________\n",
      "max_pooling2d_6 (MaxPooling2 (None, 50, 7, 7)          0         \n",
      "_________________________________________________________________\n",
      "flatten_3 (Flatten)          (None, 2450)              0         \n",
      "_________________________________________________________________\n",
      "dense_1 (Dense)              (None, 500)               1225500   \n",
      "_________________________________________________________________\n",
      "output (Dense)               (None, 10)                5010      \n",
      "=================================================================\n",
      "Total params: 1,256,080\n",
      "Trainable params: 1,256,080\n",
      "Non-trainable params: 0\n",
      "_________________________________________________________________\n",
      "Train on 200000 samples, validate on 10000 samples\n",
      "Epoch 1/20\n",
      "200000/200000 [==============================] - 164s 821us/step - loss: 0.3757 - acc: 0.8887 - val_loss: 0.3059 - val_acc: 0.9073\n",
      "Epoch 2/20\n",
      "200000/200000 [==============================] - 166s 829us/step - loss: 0.2581 - acc: 0.9211 - val_loss: 0.2685 - val_acc: 0.9179\n",
      "Epoch 3/20\n",
      "200000/200000 [==============================] - 166s 830us/step - loss: 0.2092 - acc: 0.9346 - val_loss: 0.2600 - val_acc: 0.9225\n",
      "Epoch 4/20\n",
      "200000/200000 [==============================] - 166s 829us/step - loss: 0.1656 - acc: 0.9474 - val_loss: 0.2628 - val_acc: 0.9254\n",
      "Epoch 5/20\n",
      "200000/200000 [==============================] - 164s 820us/step - loss: 0.1251 - acc: 0.9605 - val_loss: 0.2922 - val_acc: 0.9250\n",
      "Epoch 6/20\n",
      "200000/200000 [==============================] - 163s 817us/step - loss: 0.0924 - acc: 0.9710 - val_loss: 0.3257 - val_acc: 0.9249\n",
      "Epoch 7/20\n",
      "200000/200000 [==============================] - 164s 820us/step - loss: 0.0712 - acc: 0.9785 - val_loss: 0.3682 - val_acc: 0.9228\n",
      "Epoch 8/20\n",
      "200000/200000 [==============================] - 164s 818us/step - loss: 0.0583 - acc: 0.9831 - val_loss: 0.3981 - val_acc: 0.9253\n",
      "Epoch 9/20\n",
      "200000/200000 [==============================] - 163s 816us/step - loss: 0.0491 - acc: 0.9860 - val_loss: 0.4342 - val_acc: 0.9264\n",
      "Epoch 10/20\n",
      "200000/200000 [==============================] - 165s 826us/step - loss: 0.0449 - acc: 0.9873 - val_loss: 0.4324 - val_acc: 0.9273\n",
      "Epoch 11/20\n",
      "200000/200000 [==============================] - 164s 821us/step - loss: 0.0401 - acc: 0.9889 - val_loss: 0.4561 - val_acc: 0.9246\n",
      "Epoch 12/20\n",
      "200000/200000 [==============================] - 164s 819us/step - loss: 0.0377 - acc: 0.9897 - val_loss: 0.4758 - val_acc: 0.9254\n",
      "Epoch 13/20\n",
      "200000/200000 [==============================] - 163s 814us/step - loss: 0.0353 - acc: 0.9903 - val_loss: 0.4918 - val_acc: 0.9270\n",
      "Epoch 14/20\n",
      "200000/200000 [==============================] - 163s 814us/step - loss: 0.0334 - acc: 0.9908 - val_loss: 0.4891 - val_acc: 0.9274\n",
      "Epoch 15/20\n",
      "200000/200000 [==============================] - 163s 813us/step - loss: 0.0312 - acc: 0.9916 - val_loss: 0.5124 - val_acc: 0.9281\n",
      "Epoch 16/20\n",
      "200000/200000 [==============================] - 162s 811us/step - loss: 0.0314 - acc: 0.9911 - val_loss: 0.5112 - val_acc: 0.9268\n",
      "Epoch 17/20\n",
      "200000/200000 [==============================] - 161s 803us/step - loss: 0.0284 - acc: 0.9922 - val_loss: 0.5243 - val_acc: 0.9247\n",
      "Epoch 18/20\n",
      "200000/200000 [==============================] - 161s 806us/step - loss: 0.0266 - acc: 0.9927 - val_loss: 0.5578 - val_acc: 0.9239\n",
      "Epoch 19/20\n",
      "200000/200000 [==============================] - 160s 802us/step - loss: 0.0287 - acc: 0.9919 - val_loss: 0.5301 - val_acc: 0.9240\n",
      "Epoch 20/20\n",
      "200000/200000 [==============================] - 161s 803us/step - loss: 0.0263 - acc: 0.9928 - val_loss: 0.5528 - val_acc: 0.9239\n",
      "10000/10000 [==============================] - 4s 382us/step\n",
      "\n",
      "Test score: 0.17973892985261358\n",
      "Test accuracy: 0.9705\n"
     ]
    }
   ],
   "source": [
    "# Functional API\n",
    "K.set_image_dim_ordering(\"th\")\n",
    "input_layer = Input(name='image_input', shape=INPUT_SHAPE, dtype='float32')\n",
    "conv_layer_1 = Conv2D(20, kernel_size=5, padding=\"same\", activation='relu')(input_layer)\n",
    "pool_layer_1 = MaxPooling2D(pool_size=(2, 2), strides=(2, 2))(conv_layer_1)\n",
    "conv_layer_2 = Conv2D(50, kernel_size=5, padding=\"same\", activation='relu')(pool_layer_1)\n",
    "pool_layer_2 = MaxPooling2D(pool_size=(2, 2), strides=(2, 2))(conv_layer_2)\n",
    "flatten_layer = Flatten()(pool_layer_2)\n",
    "dense_1 = Dense(units=500, name='dense_1', activation='relu', dtype='float32', kernel_initializer=keras.initializers.VarianceScaling())(flatten_layer)\n",
    "output_layer = Dense(units=NB_CLASSES, name='output', activation='softmax',dtype='float32',\n",
    "        kernel_initializer=keras.initializers.VarianceScaling())(dense_1 )\n",
    "model = Model(inputs=input_layer, outputs=output_layer)\n",
    "\n",
    "model.summary()\n",
    "\n",
    "model.compile(loss='categorical_crossentropy',\n",
    "              optimizer=OPTIMIZER,\n",
    "              metrics=['accuracy'])\n",
    "\n",
    "history = model.fit(x=train_dataset, y=train_labels,\n",
    "                    batch_size=BATCH_SIZE, epochs=NB_EPOCH,\n",
    "                    verbose=VERBOSE, validation_data=(valid_dataset, valid_labels))\n",
    "score = model.evaluate(test_dataset, test_labels, verbose=VERBOSE)\n",
    "print(\"\\nTest score:\", score[0])\n",
    "print('Test accuracy:', score[1])"
   ]
  },
  {
   "cell_type": "code",
   "execution_count": 21,
   "metadata": {},
   "outputs": [
    {
     "name": "stdout",
     "output_type": "stream",
     "text": [
      "Train on 200000 samples, validate on 10000 samples\n",
      "Epoch 1/20\n",
      "200000/200000 [==============================] - 166s 830us/step - loss: 0.3757 - acc: 0.8888 - val_loss: 0.3011 - val_acc: 0.9106\n",
      "Epoch 2/20\n",
      "200000/200000 [==============================] - 166s 829us/step - loss: 0.2584 - acc: 0.9210 - val_loss: 0.2633 - val_acc: 0.9233\n",
      "Epoch 3/20\n",
      "200000/200000 [==============================] - 164s 820us/step - loss: 0.2094 - acc: 0.9349 - val_loss: 0.2547 - val_acc: 0.9210\n",
      "Epoch 4/20\n",
      "200000/200000 [==============================] - 161s 806us/step - loss: 0.1649 - acc: 0.9479 - val_loss: 0.2681 - val_acc: 0.9246\n",
      "Epoch 5/20\n",
      "200000/200000 [==============================] - 164s 821us/step - loss: 0.1226 - acc: 0.9609 - val_loss: 0.3012 - val_acc: 0.9245\n",
      "Epoch 6/20\n",
      "200000/200000 [==============================] - 160s 798us/step - loss: 0.0886 - acc: 0.9727 - val_loss: 0.3384 - val_acc: 0.9242\n",
      "Epoch 7/20\n",
      "200000/200000 [==============================] - 159s 793us/step - loss: 0.0673 - acc: 0.9798 - val_loss: 0.3813 - val_acc: 0.9225\n",
      "Epoch 8/20\n",
      "200000/200000 [==============================] - 160s 799us/step - loss: 0.0555 - acc: 0.9835 - val_loss: 0.4196 - val_acc: 0.9243\n",
      "Epoch 9/20\n",
      "200000/200000 [==============================] - 161s 804us/step - loss: 0.0476 - acc: 0.9864 - val_loss: 0.4231 - val_acc: 0.9217\n",
      "Epoch 10/20\n",
      "200000/200000 [==============================] - 160s 800us/step - loss: 0.0427 - acc: 0.9882 - val_loss: 0.4452 - val_acc: 0.9230\n",
      "Epoch 11/20\n",
      "200000/200000 [==============================] - 164s 820us/step - loss: 0.0396 - acc: 0.9890 - val_loss: 0.4689 - val_acc: 0.9216\n",
      "Epoch 12/20\n",
      "200000/200000 [==============================] - 166s 832us/step - loss: 0.0366 - acc: 0.9898 - val_loss: 0.4666 - val_acc: 0.9238\n",
      "Epoch 13/20\n",
      "200000/200000 [==============================] - 167s 833us/step - loss: 0.0345 - acc: 0.9905 - val_loss: 0.4720 - val_acc: 0.9253\n",
      "Epoch 14/20\n",
      "200000/200000 [==============================] - 167s 836us/step - loss: 0.0311 - acc: 0.9915 - val_loss: 0.5030 - val_acc: 0.9247\n",
      "Epoch 15/20\n",
      "200000/200000 [==============================] - 167s 835us/step - loss: 0.0327 - acc: 0.9909 - val_loss: 0.5058 - val_acc: 0.9253\n",
      "Epoch 16/20\n",
      "200000/200000 [==============================] - 168s 839us/step - loss: 0.0282 - acc: 0.9919 - val_loss: 0.5215 - val_acc: 0.9245\n",
      "Epoch 17/20\n",
      "200000/200000 [==============================] - 167s 837us/step - loss: 0.0281 - acc: 0.9921 - val_loss: 0.5321 - val_acc: 0.9223\n",
      "Epoch 18/20\n",
      "200000/200000 [==============================] - 167s 836us/step - loss: 0.0282 - acc: 0.9924 - val_loss: 0.5620 - val_acc: 0.9237\n",
      "Epoch 19/20\n",
      "200000/200000 [==============================] - 167s 836us/step - loss: 0.0268 - acc: 0.9926 - val_loss: 0.5431 - val_acc: 0.9241\n",
      "Epoch 20/20\n",
      "200000/200000 [==============================] - 167s 834us/step - loss: 0.0256 - acc: 0.9930 - val_loss: 0.5451 - val_acc: 0.9211\n",
      "10000/10000 [==============================] - 4s 388us/step\n",
      "\n",
      "Test score: 0.1819674179176749\n",
      "Test accuracy: 0.971\n"
     ]
    }
   ],
   "source": [
    "# Sequential API\n",
    "# pay attention to the image dim ordering\n",
    "K.set_image_dim_ordering(\"th\")\n",
    "# initialize the optimizer and model\n",
    "model = LeNet.build(input_shape=INPUT_SHAPE, classes=NB_CLASSES)\n",
    "model.compile(loss=\"categorical_crossentropy\", optimizer=OPTIMIZER,\n",
    "    metrics=[\"accuracy\"])\n",
    "\n",
    "history = model.fit(train_dataset, train_labels, \n",
    "    batch_size=BATCH_SIZE, epochs=NB_EPOCH, \n",
    "    verbose=VERBOSE, validation_data=(valid_dataset, valid_labels))\n",
    "\n",
    "score = model.evaluate(test_dataset, test_labels, verbose=VERBOSE)\n",
    "print(\"\\nTest score:\", score[0])\n",
    "print('Test accuracy:', score[1])"
   ]
  },
  {
   "cell_type": "code",
   "execution_count": 23,
   "metadata": {},
   "outputs": [
    {
     "name": "stdout",
     "output_type": "stream",
     "text": [
      "['acc', 'loss', 'val_acc', 'val_loss']\n"
     ]
    },
    {
     "data": {
      "image/png": "[encoded data removed]",
      "text/plain": [
       "<Figure size 432x288 with 1 Axes>"
      ]
     },
     "metadata": {},
     "output_type": "display_data"
    },
    {
     "data": {
      "image/png": "[encoded data removed]",
      "text/plain": [
       "<Figure size 432x288 with 1 Axes>"
      ]
     },
     "metadata": {},
     "output_type": "display_data"
    }
   ],
   "source": [
    "# list all data in history\n",
    "print(history.history.keys())\n",
    "# summarize history for accuracy\n",
    "plt.plot(history.history['acc'])\n",
    "plt.plot(history.history['val_acc'])\n",
    "plt.title('model accuracy')\n",
    "plt.ylabel('accuracy')\n",
    "plt.xlabel('epoch')\n",
    "plt.legend(['train', 'valid'], loc='best')\n",
    "plt.show()\n",
    "# summarize history for loss\n",
    "plt.plot(history.history['loss'])\n",
    "plt.plot(history.history['val_loss'])\n",
    "plt.title('model loss')\n",
    "plt.ylabel('loss')\n",
    "plt.xlabel('epoch')\n",
    "plt.legend(['train', 'valid'], loc='best')\n",
    "plt.show()"
   ]
  },
  {
   "cell_type": "code",
   "execution_count": null,
   "metadata": {},
   "outputs": [],
   "source": []
  }
 ],
 "metadata": {
  "kernelspec": {
   "display_name": "Python 2",
   "language": "python",
   "name": "python2"
  },
  "language_info": {
   "codemirror_mode": {
    "name": "ipython",
    "version": 2
   },
   "file_extension": ".py",
   "mimetype": "text/x-python",
   "name": "python",
   "nbconvert_exporter": "python",
   "pygments_lexer": "ipython2",
   "version": "2.7.15"
  }
 },
 "nbformat": 4,
 "nbformat_minor": 2
}
